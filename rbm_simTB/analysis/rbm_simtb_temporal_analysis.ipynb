{
 "cells": [
  {
   "cell_type": "code",
   "execution_count": null,
   "metadata": {},
   "outputs": [],
   "source": [
    "import numpy as np\n",
    "import imageio as imio\n",
    "import matplotlib.pyplot as plt\n",
    "%matplotlib inline\n",
    "from skimage.filters import try_all_threshold as tat\n",
    "from skimage.filters import threshold_otsu as otsu\n",
    "from skimage.morphology import remove_small_objects as rso\n",
    "from skimage.morphology import watershed\n",
    "from skimage.feature import peak_local_max\n",
    "from sklearn import preprocessing\n",
    "from scipy import ndimage as ndi\n",
    "import nibabel as nib\n",
    "from scipy.stats import pearsonr\n",
    "import os\n",
    "from skimage.feature import match_template\n",
    "import math"
   ]
  },
  {
   "cell_type": "markdown",
   "metadata": {},
   "source": [
    "## Functions"
   ]
  },
  {
   "cell_type": "code",
   "execution_count": null,
   "metadata": {},
   "outputs": [],
   "source": [
    "def cmpnt_tc(data, sm_dict):\n",
    "    \"\"\" reconstructs a time course for each ground truth component \"\"\"\n",
    "    print(data.shape)\n",
    "    sm_mtrx = []\n",
    "#     print(sorted(list([int(i) for i in sm_dict.keys()])))\n",
    "    print(sm_dict.keys())\n",
    "    for sm in range(1,len(sm_dict.keys())+1):\n",
    "        sm_arr = np.reshape(sm_dict[str(sm)], (16384))\n",
    "        sm_mtrx.append(sm_arr)\n",
    "    sm_matrix = np.asarray(sm_mtrx)\n",
    "    print(sm_matrix.shape)\n",
    "    sm_tc = np.matmul(sm_matrix,np.transpose(data))\n",
    "    print(sm_tc.shape)\n",
    "    return sm_tc"
   ]
  },
  {
   "cell_type": "code",
   "execution_count": null,
   "metadata": {},
   "outputs": [],
   "source": [
    "def temp_corr(tc_est, tc_gt, max_only=True, pos_th=0.6, neg_th=-0.6):\n",
    "    \"\"\" \n",
    "    Finds the temporal correlation between each weight matrix's reconstructed time course and each \n",
    "    ground truth's reconstructed time course.\n",
    "    \n",
    "    Returns either the maximum match for each ground truth or all matches above/below the thresholds.\"\"\"\n",
    "    pos_tc={}\n",
    "    neg_tc={}\n",
    "    temp_corrs={}\n",
    "    for tct in range(len(tc_gt)):\n",
    "#         print(tc_est[tce].shape)\n",
    "        e_tcorr = {}\n",
    "        for tce in range(len(tc_est)):\n",
    "#             print(tc_gt[tct].shape)\n",
    "            tempcorr = pearsonr(tc_gt[tct], tc_est[tce])[0]\n",
    "            e_tcorr[str(tce)] = tempcorr\n",
    "#             print('estim. tc {} and gt tc {}: corr={}'.format(tce,tct,tempcorr))\n",
    "            if not max_only: \n",
    "                if any((v>=pos_th or v<=neg_th) for k,v in e_tcorr.items()):\n",
    "                    temp_corrs['neuron_{}__sm_{}'.format(tce+1,tct+1)] = tempcorr  \n",
    "        max_tcorr = max(e_tcorr, key=lambda key: e_tcorr[key])\n",
    "        min_tcorr = min(e_tcorr, key=lambda key: e_tcorr[key])\n",
    "        pos_tc['neuron_{}__gt_{}'.format(int(max_tcorr)+1,tct+1)] = e_tcorr[max_tcorr]\n",
    "        neg_tc['neuron_{}__gt_{}'.format(int(min_tcorr)+1,tct+1)] = e_tcorr[min_tcorr]\n",
    "    if not max_only: return temp_corrs\n",
    "    else: return pos_tc, neg_tc"
   ]
  },
  {
   "cell_type": "code",
   "execution_count": null,
   "metadata": {},
   "outputs": [],
   "source": [
    "def plot_temp_corr(temp_corr_pos, temp_corr_neg, wt_dict, gt_dict, pos_th, neg_th):\n",
    "    \"\"\" plots the temporally matched weight matrices and ground truth component maps \"\"\"\n",
    "    strong_temp_corrs={}\n",
    "    for k,v in temp_corr_pos.items():\n",
    "        if v>pos_th:\n",
    "            f = plt.figure()\n",
    "            f.suptitle('{} corr={}'.format(k,v))\n",
    "            ax = plt.subplot(121)\n",
    "            ax.set_title(k.split('__')[0])\n",
    "            plt.imshow(wt_dict[k.split('__')[0]], cmap='gray')\n",
    "            ax1 = plt.subplot(122)\n",
    "            ax1.set_title(k.split('__')[1])\n",
    "            plt.imshow(gt_dict[k.split('_')[-1]], cmap='gray')\n",
    "            strong_temp_corrs[k]=v\n",
    "    for k,v in temp_corr_neg.items():\n",
    "        if v<neg_th:\n",
    "            f = plt.figure()\n",
    "            f.suptitle('{} corr={}'.format(k,v))\n",
    "            ax = plt.subplot(121)\n",
    "            ax.set_title(k.split('__')[0])\n",
    "            plt.imshow(wt_dict[k.split('__')[0]], cmap='gray')\n",
    "            ax1 = plt.subplot(122)\n",
    "            ax1.set_title(k.split('__')[1])\n",
    "            plt.imshow(gt_dict[k.split('_')[-1]], cmap='gray')\n",
    "            strong_temp_corrs[k]=v\n",
    "    return strong_temp_corrs"
   ]
  },
  {
   "cell_type": "code",
   "execution_count": null,
   "metadata": {},
   "outputs": [],
   "source": []
  },
  {
   "cell_type": "code",
   "execution_count": null,
   "metadata": {},
   "outputs": [],
   "source": []
  },
  {
   "cell_type": "markdown",
   "metadata": {},
   "source": [
    "## Load the reconstructed time courses\n",
    "##### Reconstruction performed on original machine the RBM was run on "
   ]
  },
  {
   "cell_type": "code",
   "execution_count": null,
   "metadata": {},
   "outputs": [],
   "source": [
    "sim_tc = np.load('./timecourses.npy')\n",
    "sim_tc.shape"
   ]
  },
  {
   "cell_type": "code",
   "execution_count": null,
   "metadata": {},
   "outputs": [],
   "source": [
    "# # not needed\n",
    "# subject_tc = np.asarray([sim_tc[:,ts:ts+400] for ts in range(0,sim_tc.shape[1],400)])\n",
    "# subject_tc.shape"
   ]
  },
  {
   "cell_type": "markdown",
   "metadata": {},
   "source": [
    "#### Load the raw data"
   ]
  },
  {
   "cell_type": "code",
   "execution_count": null,
   "metadata": {},
   "outputs": [],
   "source": [
    "gt_tc = np.load('./simtb_masked_stdz.npy')\n",
    "gt_tc.shape"
   ]
  },
  {
   "cell_type": "markdown",
   "metadata": {},
   "source": [
    "### Reconstruct the component-wise time courses"
   ]
  },
  {
   "cell_type": "code",
   "execution_count": null,
   "metadata": {},
   "outputs": [],
   "source": [
    "sm_tc = cmpnt_tc(gt_tc,sm_cmpnts)"
   ]
  },
  {
   "cell_type": "markdown",
   "metadata": {},
   "source": [
    "### Calculate the temporal correlations"
   ]
  },
  {
   "cell_type": "code",
   "execution_count": null,
   "metadata": {},
   "outputs": [],
   "source": [
    "print(sim_tc.shape)\n",
    "print(sm_tc.shape)\n",
    "pos_tcorrs, neg_tcorrs = temp_corr(sim_tc, sm_tc)"
   ]
  },
  {
   "cell_type": "markdown",
   "metadata": {},
   "source": [
    "### Print the temp corrrs for verification"
   ]
  },
  {
   "cell_type": "code",
   "execution_count": null,
   "metadata": {},
   "outputs": [],
   "source": [
    "# for k,v in pos_tcorrs.items():\n",
    "#     print(k,v)"
   ]
  },
  {
   "cell_type": "code",
   "execution_count": null,
   "metadata": {},
   "outputs": [],
   "source": [
    "# for k,v in neg_tcorrs.items():\n",
    "#     print(k,v)"
   ]
  },
  {
   "cell_type": "markdown",
   "metadata": {},
   "source": [
    "### Plot the spatial maps corresponding to the temporal correlation matches"
   ]
  },
  {
   "cell_type": "code",
   "execution_count": null,
   "metadata": {},
   "outputs": [],
   "source": [
    "plot_temp_corr(pos_tcorrs, neg_tcorrs, wts_stdz, sm_cmpnts, 0.6, -0.6)"
   ]
  },
  {
   "cell_type": "markdown",
   "metadata": {},
   "source": [
    "#### 21 of 27 (77.78%) of ground truth component time courses were reconstructed\n",
    "#### 11 of 14 (78.57%) of experimental component time courses were reconstructed"
   ]
  },
  {
   "cell_type": "code",
   "execution_count": null,
   "metadata": {},
   "outputs": [],
   "source": [
    "### Functional connectivity analysis: \n",
    "#### Plot all spatial correlations to ground truth for any weight matrix that has at least one correlation >= the threshold"
   ]
  },
  {
   "cell_type": "code",
   "execution_count": null,
   "metadata": {},
   "outputs": [],
   "source": [
    "plot_sm_fnc(scorrs, wts_stdz)"
   ]
  },
  {
   "cell_type": "markdown",
   "metadata": {},
   "source": [
    "| _ | _ |\n",
    "| :-------------- | :--------: |\n",
    "| <p style=\"text-align: left;\"> Number of Weight matrices with spatial correlations to two or more spatial components | 22 |\n",
    "| <p style=\"text-align: left;\"> Number of selected weights with at least partially correct FNC's | 20 (91%) |\n",
    "| <p style=\"text-align: left;\"> Number of selected weights with fully correct FNC's | 10 (45%) |\n",
    "| <p style=\"text-align: left;\"> Number of unique fully inaccurate FNC's | 1 |\n",
    "| <p style=\"text-align: left;\"> Number of accurately selected components | 10 (62.5%) |\n",
    "| <p style=\"text-align: left;\"> Number of inaccurate FNC components | 6 (37.5%) |\n",
    "| <p style=\"text-align: left;\"> Number of connected components represented | 10 of 14 (71%) | "
   ]
  }
 ],
 "metadata": {
  "kernelspec": {
   "display_name": "Python 3",
   "language": "python",
   "name": "python3"
  },
  "language_info": {
   "codemirror_mode": {
    "name": "ipython",
    "version": 3
   },
   "file_extension": ".py",
   "mimetype": "text/x-python",
   "name": "python",
   "nbconvert_exporter": "python",
   "pygments_lexer": "ipython3",
   "version": "3.6.4"
  }
 },
 "nbformat": 4,
 "nbformat_minor": 2
}
