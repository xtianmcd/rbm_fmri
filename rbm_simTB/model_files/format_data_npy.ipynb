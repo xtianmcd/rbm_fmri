{
 "cells": [
  {
   "cell_type": "code",
   "execution_count": 1,
   "metadata": {},
   "outputs": [
    {
     "name": "stderr",
     "output_type": "stream",
     "text": [
      "/anaconda3/lib/python3.6/site-packages/dicom/__init__.py:53: UserWarning: \n",
      "This code is using an older version of pydicom, which is no longer \n",
      "maintained as of Jan 2017.  You can access the new pydicom features and API \n",
      "by installing `pydicom` from PyPI.\n",
      "See 'Transitioning to pydicom 1.x' section at pydicom.readthedocs.org \n",
      "for more information.\n",
      "\n",
      "  warnings.warn(msg)\n",
      "/anaconda3/lib/python3.6/site-packages/h5py/__init__.py:36: FutureWarning: Conversion of the second argument of issubdtype from `float` to `np.floating` is deprecated. In future, it will be treated as `np.float64 == np.dtype(float).type`.\n",
      "  from ._conv import register_converters as _register_converters\n"
     ]
    }
   ],
   "source": [
    "import numpy as np\n",
    "import nibabel as nib\n",
    "import os\n",
    "from sklearn import preprocessing"
   ]
  },
  {
   "cell_type": "code",
   "execution_count": 2,
   "metadata": {},
   "outputs": [],
   "source": [
    "full_data = []\n",
    "for init in range(16384):\n",
    "    full_data.append([])"
   ]
  },
  {
   "cell_type": "code",
   "execution_count": 3,
   "metadata": {},
   "outputs": [
    {
     "name": "stdout",
     "output_type": "stream",
     "text": [
      "1.nii\n",
      "10.nii\n",
      "11.nii\n",
      "12.nii\n",
      "13.nii\n",
      "14.nii\n",
      "15.nii\n",
      "16.nii\n",
      "17.nii\n",
      "18.nii\n",
      "19.nii\n",
      "2.nii\n",
      "20.nii\n",
      "3.nii\n",
      "4.nii\n",
      "5.nii\n",
      "6.nii\n",
      "7.nii\n",
      "8.nii\n",
      "9.nii\n"
     ]
    }
   ],
   "source": [
    "simTB = '../../simTB/'\n",
    "for im in os.listdir(simTB):\n",
    "    if im.endswith('.nii'):\n",
    "        print(im)\n",
    "        img = nib.load(simTB+im)\n",
    "        image = img.get_fdata()\n",
    "        arr = list(image.reshape(16384,400))\n",
    "        #print(np.mean(arr[0]))\n",
    "        arr_norm = preprocessing.scale(arr, axis=1)\n",
    "        #print(np.mean(arr_norm[0]))\n",
    "        for voxel in range(len(arr_norm)):\n",
    "            full_data[voxel].extend(arr_norm[voxel])"
   ]
  },
  {
   "cell_type": "code",
   "execution_count": 110,
   "metadata": {},
   "outputs": [],
   "source": [
    "full_data = np.asarray(full_data)"
   ]
  },
  {
   "cell_type": "code",
   "execution_count": 111,
   "metadata": {},
   "outputs": [
    {
     "data": {
      "text/plain": [
       "(16384, 8000)"
      ]
     },
     "execution_count": 111,
     "metadata": {},
     "output_type": "execute_result"
    }
   ],
   "source": [
    "full_data.shape"
   ]
  },
  {
   "cell_type": "code",
   "execution_count": 112,
   "metadata": {},
   "outputs": [
    {
     "data": {
      "text/plain": [
       "(8000, 16384)"
      ]
     },
     "execution_count": 112,
     "metadata": {},
     "output_type": "execute_result"
    }
   ],
   "source": [
    "data_full = np.transpose(full_data)\n",
    "data_full.shape"
   ]
  },
  {
   "cell_type": "code",
   "execution_count": 113,
   "metadata": {},
   "outputs": [],
   "source": [
    "#data_norm = preprocessing.normalize(data_full, axis=0)\n",
    "# minmax = preprocessing.MinMaxScaler()\n",
    "# data_scaled = minmax.fit_transform(data_full)"
   ]
  },
  {
   "cell_type": "code",
   "execution_count": 114,
   "metadata": {},
   "outputs": [],
   "source": [
    "np.save('simtb_full_std.npy', data_full)"
   ]
  },
  {
   "cell_type": "markdown",
   "metadata": {},
   "source": [
    "# Now let's apply a mask to the data before formatting it for our network"
   ]
  },
  {
   "cell_type": "code",
   "execution_count": 115,
   "metadata": {},
   "outputs": [],
   "source": [
    "masknib = nib.load('simexp_MASK.nii')\n",
    "mask = masknib.get_fdata()"
   ]
  },
  {
   "cell_type": "code",
   "execution_count": 116,
   "metadata": {},
   "outputs": [],
   "source": [
    "masked_data = []\n",
    "for init in range(16384):\n",
    "    masked_data.append([])"
   ]
  },
  {
   "cell_type": "code",
   "execution_count": 117,
   "metadata": {
    "scrolled": true
   },
   "outputs": [],
   "source": [
    "n=0\n",
    "simTB = './simTB/'\n",
    "for im in os.listdir(simTB):\n",
    "    if im.endswith('.nii'):\n",
    "        n +=1\n",
    "        img = nib.load(simTB+im)\n",
    "        image = img.get_fdata()\n",
    "        image = np.reshape(image, (128,128,400))\n",
    "        brain = np.zeros((128,128,400))\n",
    "        for ts in range(len(image[0,0,:])):\n",
    "            #brain[:,:,ts]=np.matmul(image[:,:,ts],np.transpose(mask))\n",
    "            brain[:,:,ts]=image[:,:,ts]*mask\n",
    "        masked = nib.Nifti1Image(brain, img.affine)\n",
    "        nib.save(masked, './simTB_masked/{}.nii'.format(n))\n",
    "        arr = list(brain.reshape(16384,400))\n",
    "        arr_norm = preprocessing.scale(arr, axis=1)\n",
    "        for voxel in range(len(arr_norm)):\n",
    "            masked_data[voxel].extend(arr_norm[voxel])"
   ]
  },
  {
   "cell_type": "code",
   "execution_count": 118,
   "metadata": {},
   "outputs": [],
   "source": [
    "masked_data = np.asarray(masked_data)"
   ]
  },
  {
   "cell_type": "code",
   "execution_count": 119,
   "metadata": {},
   "outputs": [
    {
     "data": {
      "text/plain": [
       "(16384, 8000)"
      ]
     },
     "execution_count": 119,
     "metadata": {},
     "output_type": "execute_result"
    }
   ],
   "source": [
    "masked_data.shape"
   ]
  },
  {
   "cell_type": "code",
   "execution_count": 120,
   "metadata": {},
   "outputs": [
    {
     "data": {
      "text/plain": [
       "(8000, 16384)"
      ]
     },
     "execution_count": 120,
     "metadata": {},
     "output_type": "execute_result"
    }
   ],
   "source": [
    "data_masked = np.transpose(masked_data)\n",
    "data_masked.shape"
   ]
  },
  {
   "cell_type": "code",
   "execution_count": 121,
   "metadata": {},
   "outputs": [],
   "source": [
    "#data_norm = preprocessing.normalize(data_masked, axis=0)\n",
    "# minmaxm = preprocessing.MinMaxScaler()\n",
    "# datam_scaled = minmaxm.fit_transform(data_masked)"
   ]
  },
  {
   "cell_type": "code",
   "execution_count": 122,
   "metadata": {},
   "outputs": [],
   "source": [
    "np.save('simtb_masked_std.npy', data_masked)"
   ]
  },
  {
   "cell_type": "code",
   "execution_count": null,
   "metadata": {},
   "outputs": [],
   "source": []
  }
 ],
 "metadata": {
  "kernelspec": {
   "display_name": "Python 3",
   "language": "python",
   "name": "python3"
  },
  "language_info": {
   "codemirror_mode": {
    "name": "ipython",
    "version": 3
   },
   "file_extension": ".py",
   "mimetype": "text/x-python",
   "name": "python",
   "nbconvert_exporter": "python",
   "pygments_lexer": "ipython3",
   "version": "3.6.4"
  }
 },
 "nbformat": 4,
 "nbformat_minor": 2
}
