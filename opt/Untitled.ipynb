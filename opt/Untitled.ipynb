{
 "cells": [
  {
   "cell_type": "code",
   "execution_count": null,
   "metadata": {},
   "outputs": [],
   "source": [
    "import numpy as np\n",
    "import imageio as imio\n",
    "import matplotlib.pyplot as plt\n",
    "%matplotlib inline\n",
    "from skimage.filters import try_all_threshold as tat\n",
    "from skimage.filters import threshold_otsu as otsu\n",
    "from skimage.morphology import remove_small_objects as rso\n",
    "from skimage.morphology import watershed\n",
    "from skimage.feature import peak_local_max\n",
    "from scipy import ndimage as ndi\n",
    "import nibabel as nib\n",
    "from scipy.stats import pearsonr\n",
    "import os\n",
    "from skimage.feature import match_template\n",
    "import math"
   ]
  },
  {
   "cell_type": "code",
   "execution_count": null,
   "metadata": {},
   "outputs": [],
   "source": [
    "def plot_img(img):\n",
    "    f = plt.figure()\n",
    "    n_ = imio.imread('./neuron_{}.png'.format(img))[:,:,0]  \n",
    "    ax1 = plt.subplot(121)\n",
    "    ax1.set_title('raw image')\n",
    "    plt.imshow(n_, cmap='gray')\n",
    "    n = n_.astype(float)\n",
    "    n = (n - np.mean(n)) / np.std(n)\n",
    "    ax2 = plt.subplot(122)\n",
    "    ax2.set_title('stdized')\n",
    "    plt.imshow(n, cmap='gray')\n",
    "    return n"
   ]
  },
  {
   "cell_type": "code",
   "execution_count": null,
   "metadata": {},
   "outputs": [],
   "source": [
    "def spat_corr(sm_est, sm_gt, max_only=True, pos_th=0.6, neg_th=-0.6):\n",
    "#     sim_sm = list([sm_gt+i for i in os.listdir(sm_gt) if i.endswith('.nii')])\n",
    "    sim_sm = sorted(list([sm_gt+i for i in os.listdir(sm_gt) if i.endswith('.nii')]), key= lambda x: int(x.split('/')[-1].split('.')[0]))\n",
    "    pos_sc = {}\n",
    "    neg_sc = {}\n",
    "    sm = {}\n",
    "    spat_corrs = {}\n",
    "    for n in range(1,129):\n",
    "        wt = 'neuron_{}'.format(n)\n",
    "        est_sm = sm_est.get(wt)\n",
    "        n_sc = {}\n",
    "        for nii in sim_sm:\n",
    "            gt = nii.split('/')[-1].split('.')[0]\n",
    "#             if int(gt) < 10: gt = '0{}'.format(gt)\n",
    "            gt_sm_ = nib.load(nii)\n",
    "            gt_sm = gt_sm_.get_fdata()\n",
    "            sm[gt]=gt_sm\n",
    "#             print(gt_sm.shape)\n",
    "            sc = pearsonr(np.ravel(est_sm), np.ravel(gt_sm))[0]\n",
    "            n_sc[gt] = sc\n",
    "            if not max_only: \n",
    "                if any((v>=pos_th or v<=neg_th) for k,v in n_sc.items()):\n",
    "                    spat_corrs[wt+'__sm_{}'.format(gt)] = sc    \n",
    "        max_sc = max(n_sc, key=lambda key: n_sc[key])\n",
    "        min_sc = min(n_sc, key=lambda key: n_sc[key])\n",
    "        pos_sc[wt+'__sm_{}'.format(max_sc)] = n_sc[max_sc]\n",
    "        neg_sc[wt+'__sm_{}'.format(min_sc)] = n_sc[min_sc]                    \n",
    "    if not max_only: return spat_corrs, sm\n",
    "    else: return pos_sc, neg_sc, sm"
   ]
  },
  {
   "cell_type": "code",
   "execution_count": null,
   "metadata": {},
   "outputs": [],
   "source": [
    "def spat_corr2(sm_est, sm_gt):\n",
    "    sim_sm = list([sm_gt+i for i in os.listdir(sm_gt) if i.endswith('.nii')])\n",
    "    pos_sc = {}\n",
    "    neg_sc = {}\n",
    "    sm = {}\n",
    "    for nii in sim_sm:\n",
    "        gt = nii.split('/')[-1]\n",
    "        gt = gt.split('.')[0]\n",
    "        gt_sm_ = nib.load(nii)\n",
    "        gt_sm = gt_sm_.get_fdata()\n",
    "        sm[gt]=gt_sm\n",
    "        n_sc = {}\n",
    "        for n in range(1,129):\n",
    "            wt = 'neuron_{}'.format(n)\n",
    "            est_sm = sm_est.get(wt)\n",
    "            sc = pearsonr(np.ravel(gt_sm), np.ravel(est_sm))[0]\n",
    "            n_sc[wt] = sc\n",
    "        max_sc = max(n_sc, key=lambda key: n_sc[key])\n",
    "        min_sc = min(n_sc, key=lambda key: n_sc[key])\n",
    "        pos_sc['{}__sm_{}'.format(max_sc, gt)] = n_sc[max_sc]\n",
    "        neg_sc['{}__sm_{}'.format(min_sc, gt)] = n_sc[min_sc]\n",
    "    return pos_sc, neg_sc, sm"
   ]
  },
  {
   "cell_type": "code",
   "execution_count": null,
   "metadata": {},
   "outputs": [],
   "source": [
    "def cmpnt_tc(data, sm_dict):\n",
    "    print(data.shape)\n",
    "    sm_mtrx = []\n",
    "#     print(sorted(list([int(i) for i in sm_dict.keys()])))\n",
    "    print(sm_dict.keys())\n",
    "    for sm in range(1,len(sm_dict.keys())+1):\n",
    "        sm_arr = np.reshape(sm_dict[str(sm)], (16384))\n",
    "        sm_mtrx.append(sm_arr)\n",
    "    sm_matrix = np.asarray(sm_mtrx)\n",
    "    print(sm_matrix.shape)\n",
    "    sm_tc = np.matmul(sm_matrix,np.transpose(data))\n",
    "    print(sm_tc.shape)\n",
    "    return sm_tc"
   ]
  },
  {
   "cell_type": "code",
   "execution_count": null,
   "metadata": {},
   "outputs": [],
   "source": [
    "def temp_corr(tc_est, tc_gt, max_only=True):\n",
    "    pos_tc={}\n",
    "    neg_tc={}\n",
    "    temp_corrs={}\n",
    "    for tct in range(len(tc_gt)):\n",
    "#         print(tc_est[tce].shape)\n",
    "        e_tcorr = {}\n",
    "        for tce in range(len(tc_est)):\n",
    "#             print(tc_gt[tct].shape)\n",
    "            tempcorr = pearsonr(tc_gt[tct], tc_est[tce])[0]\n",
    "            e_tcorr[str(tce)] = tempcorr\n",
    "#             print('estim. tc {} and gt tc {}: corr={}'.format(tce,tct,tempcorr))\n",
    "            if not max_only: \n",
    "                if any((v>=pos_th or v<=neg_th) for k,v in e_tcorr.items()):\n",
    "                    temp_corrs['neuron_{}__sm_{}'.format(tce+1,tct+1)] = tempcorr  \n",
    "        max_tcorr = max(e_tcorr, key=lambda key: e_tcorr[key])\n",
    "        pos_tc['neuron_{}__gt_{}'.format(int(max_tcorr)+1,tct+1)] = e_tcorr[max_tcorr]\n",
    "        min_tcorr = min(e_tcorr, key=lambda key: e_tcorr[key])\n",
    "        neg_tc['neuron_{}__gt_{}'.format(int(min_tcorr)+1,tct+1)] = e_tcorr[min_tcorr]\n",
    "    if not max_only: return temp_corrs\n",
    "    else: return pos_tc, neg_tc"
   ]
  },
  {
   "cell_type": "code",
   "execution_count": null,
   "metadata": {},
   "outputs": [],
   "source": [
    "def plot_spat_corr(pos_spat_corr_dict, neg_spat_corr_dict, wt_dict, gt_dict, pos_th, neg_th):\n",
    "    strong_corrs={}\n",
    "    for k,v in pos_spat_corr_dict.items():\n",
    "        if v>=pos_th:\n",
    "            f = plt.figure()\n",
    "            f.suptitle('{} corr={}'.format(k,v))\n",
    "            ax1 = plt.subplot(121)\n",
    "            ax1.set_title(k.split('__')[0])\n",
    "            plt.imshow(wt_dict[k.split('__')[0]], cmap='gray')\n",
    "            ax1 = plt.subplot(122)\n",
    "            ax1.set_title(k.split('__')[1])\n",
    "            plt.imshow(gt_dict[k.split('_')[-1]], cmap='gray')\n",
    "            strong_corrs[k]=v\n",
    "    for k,v in neg_spat_corr_dict.items():\n",
    "        if v<=neg_th:\n",
    "            f = plt.figure()\n",
    "            f.suptitle('{} corr={}'.format(k,v))\n",
    "            ax1 = plt.subplot(121)\n",
    "            ax1.set_title(k.split('__')[0])\n",
    "            plt.imshow(wt_dict[k.split('__')[0]], cmap='gray')\n",
    "            ax1 = plt.subplot(122)\n",
    "            ax1.set_title(k.split('__')[1])\n",
    "            plt.imshow(gt_dict[k.split('_')[-1]], cmap='gray')\n",
    "            strong_corrs[k]=v\n",
    "    return strong_corrs"
   ]
  },
  {
   "cell_type": "code",
   "execution_count": null,
   "metadata": {},
   "outputs": [],
   "source": [
    "def plot_temp_corr(temp_corr_pos, temp_corr_neg, wt_dict, gt_dict, pos_th, neg_th):\n",
    "    strong_temp_corrs={}\n",
    "    for k,v in temp_corr_pos.items():\n",
    "        if v>pos_th:\n",
    "            f = plt.figure()\n",
    "            f.suptitle('{} corr={}'.format(k,v))\n",
    "            ax = plt.subplot(121)\n",
    "            ax.set_title(k.split('__')[0])\n",
    "            plt.imshow(wt_dict[k.split('__')[0]], cmap='gray')\n",
    "            ax1 = plt.subplot(122)\n",
    "            ax1.set_title(k.split('__')[1])\n",
    "            plt.imshow(gt_dict[k.split('_')[-1]], cmap='gray')\n",
    "            strong_temp_corrs[k]=v\n",
    "    for k,v in temp_corr_neg.items():\n",
    "        if v<neg_th:\n",
    "            f = plt.figure()\n",
    "            f.suptitle('{} corr={}'.format(k,v))\n",
    "            ax = plt.subplot(121)\n",
    "            ax.set_title(k.split('__')[0])\n",
    "            plt.imshow(wt_dict[k.split('__')[0]], cmap='gray')\n",
    "            ax1 = plt.subplot(122)\n",
    "            ax1.set_title(k.split('__')[1])\n",
    "            plt.imshow(gt_dict[k.split('_')[-1]], cmap='gray')\n",
    "            strong_temp_corrs[k]=v\n",
    "    return strong_temp_corrs"
   ]
  },
  {
   "cell_type": "code",
   "execution_count": null,
   "metadata": {},
   "outputs": [],
   "source": [
    "def plot_sm_fnc(spat_corr_dict, wt_dict):\n",
    "    for wt in range(1,129):\n",
    "        wt_sc = []\n",
    "        for k,v in spat_corr_dict.items():\n",
    "            if k.split('__')[0] == 'neuron_{}'.format(wt):# and (v>=pos_th or v<=neg_th):\n",
    "                wt_sc.append([k.split('__')[1],v])#\n",
    "#         print(wt_sc)\n",
    "        wt_sc_sorted = sorted(wt_sc,key=lambda x: int(x[0].split('_')[1]))\n",
    "#         print(wt_sc_sorted)\n",
    "        if wt_sc:\n",
    "            f = plt.figure(figsize=(12.8,4.8))\n",
    "            f.suptitle('Wt matrix {}'.format(wt))\n",
    "            plt.xticks(range(1,28))\n",
    "            ax = plt.bar(list(int(wt_sc_sorted[i][0].split('_')[1]) for i in range(len(wt_sc_sorted))),\\\n",
    "                        list(wt_sc_sorted[ii][1] for ii in range(len(wt_sc_sorted))))\n",
    "#         plt.imshow(ax)"
   ]
  },
  {
   "cell_type": "code",
   "execution_count": null,
   "metadata": {},
   "outputs": [],
   "source": [
    "def max_corrs(pos_sm_corr, neg_sm_corr, wt_dict, gt_dict):\n",
    "    for sm in range(1,28):\n",
    "        f = plt.figure()\n",
    "        f.suptitle('SM {}'.format(sm))\n",
    "        sm_dict={}\n",
    "        for k,v in pos_sm_corr.items():\n",
    "            if k.split('_')[-1] == str(sm):\n",
    "                sm_dict[k] = v\n",
    "        if sm_dict:\n",
    "            sm_max = max(sm_dict, key=lambda key: sm_dict[key])\n",
    "            ax1 = plt.subplot(131)\n",
    "            ax1.set_title('pos corr={0:.3f}'.format(sm_dict[sm_max]))\n",
    "            plt.imshow(wt_dict[sm_max.split('__')[0]], cmap='gray')\n",
    "        for k,v in neg_sm_corr.items():\n",
    "            if k.split('_')[-1] == str(sm):\n",
    "                sm_dict[k] = v\n",
    "        if sm_dict:\n",
    "            sm_min = min(sm_dict, key=lambda key: sm_dict[key])\n",
    "            ax2 = plt.subplot(132)\n",
    "            ax2.set_title('neg corr={0:.3f}'.format(sm_dict[sm_min]))\n",
    "            plt.imshow(wt_dict[sm_min.split('__')[0]], cmap='gray')\n",
    "        ax3 = plt.subplot(133)\n",
    "        ax3.set_title('SM')\n",
    "        plt.imshow(gt_dict[str(sm)], cmap='gray')"
   ]
  },
  {
   "cell_type": "code",
   "execution_count": null,
   "metadata": {},
   "outputs": [],
   "source": [
    "wts_stdz1 = {}\n",
    "for img in range(1,129):\n",
    "    n_stdz = plot_img(img)\n",
    "    wts_stdz1['neuron_{}'.format(img)] = n_stdz"
   ]
  },
  {
   "cell_type": "code",
   "execution_count": null,
   "metadata": {},
   "outputs": [],
   "source": [
    "wts_stdz2 = sorted(wts_stdz1.items(), key=lambda kv: int(kv[0].split('_')[1]))\n",
    "wts_stdz = {kv1[0]:kv1[1] for kv1 in wts_stdz2}\n",
    "wts_stdz.keys()"
   ]
  },
  {
   "cell_type": "code",
   "execution_count": null,
   "metadata": {},
   "outputs": [],
   "source": [
    "gt_cmpnts = '../../sim_SM/'"
   ]
  },
  {
   "cell_type": "code",
   "execution_count": null,
   "metadata": {},
   "outputs": [],
   "source": [
    "sc_pos, sc_neg, sm_cmpnts = spat_corr(wts_stdz, gt_cmpnts)"
   ]
  },
  {
   "cell_type": "code",
   "execution_count": null,
   "metadata": {},
   "outputs": [],
   "source": [
    "for k,v in sc_pos.items():\n",
    "    print(k,v)"
   ]
  },
  {
   "cell_type": "code",
   "execution_count": null,
   "metadata": {},
   "outputs": [],
   "source": [
    "for k,v in sc_neg.items():\n",
    "    print(k,v)"
   ]
  },
  {
   "cell_type": "code",
   "execution_count": null,
   "metadata": {},
   "outputs": [],
   "source": [
    "spat_corrs = plot_spat_corr(sc_pos, sc_neg, wts_stdz, sm_cmpnts, 0.6, -0.6)"
   ]
  },
  {
   "cell_type": "code",
   "execution_count": null,
   "metadata": {},
   "outputs": [],
   "source": [
    "sc_pos2, sc_neg2, _ = spat_corr2(wts_stdz, gt_cmpnts)"
   ]
  },
  {
   "cell_type": "code",
   "execution_count": null,
   "metadata": {},
   "outputs": [],
   "source": [
    "for k,v in sc_pos2.items():\n",
    "    print(k,v)"
   ]
  },
  {
   "cell_type": "code",
   "execution_count": null,
   "metadata": {},
   "outputs": [],
   "source": [
    "for k,v in sc_neg2.items():\n",
    "    print(k,v)"
   ]
  },
  {
   "cell_type": "code",
   "execution_count": null,
   "metadata": {},
   "outputs": [],
   "source": [
    "spat_corrs2 = plot_spat_corr(sc_pos2, sc_neg2, wts_stdz, sm_cmpnts, 0.6, -0.6)"
   ]
  },
  {
   "cell_type": "code",
   "execution_count": null,
   "metadata": {},
   "outputs": [],
   "source": [
    "max_corrs(sc_pos, sc_neg, wts_stdz, sm_cmpnts)"
   ]
  },
  {
   "cell_type": "code",
   "execution_count": null,
   "metadata": {},
   "outputs": [],
   "source": [
    "sim_tc = np.load('./timecourses.npy')\n",
    "sim_tc.shape"
   ]
  }
 ],
 "metadata": {
  "kernelspec": {
   "display_name": "Python 3",
   "language": "python",
   "name": "python3"
  },
  "language_info": {
   "codemirror_mode": {
    "name": "ipython",
    "version": 3
   },
   "file_extension": ".py",
   "mimetype": "text/x-python",
   "name": "python",
   "nbconvert_exporter": "python",
   "pygments_lexer": "ipython3",
   "version": "3.6.4"
  }
 },
 "nbformat": 4,
 "nbformat_minor": 2
}
